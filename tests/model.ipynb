{
 "cells": [
  {
   "cell_type": "code",
   "execution_count": 1,
   "metadata": {},
   "outputs": [],
   "source": [
    "import sys\n",
    "sys.path.append(\"..\")\n"
   ]
  },
  {
   "cell_type": "code",
   "execution_count": 2,
   "metadata": {},
   "outputs": [
    {
     "name": "stdout",
     "output_type": "stream",
     "text": [
      "Iteration 0: Rs=0.9466, Rsh=7500.0, A=1.0276, dI/dV=-0.000133, expected=-0.000133, diff=-0.000000, dP/dV=-1.276554\n",
      "Iteration 1: Rs=0.9372, Rsh=7500.0, A=1.0783, dI/dV=-0.000133, expected=-0.000133, diff=-0.000000, dP/dV=-1.604876\n",
      "Iteration 2: Rs=0.9278, Rsh=7500.0, A=1.0854, dI/dV=-0.000133, expected=-0.000133, diff=-0.000000, dP/dV=-1.571093\n",
      "Iteration 3: Rs=0.9185, Rsh=7500.0, A=1.0925, dI/dV=-0.000133, expected=-0.000133, diff=-0.000000, dP/dV=-1.538077\n",
      "Iteration 4: Rs=0.9093, Rsh=7500.0, A=1.0994, dI/dV=-0.000133, expected=-0.000133, diff=-0.000000, dP/dV=-1.505806\n",
      "Iteration 5: Rs=0.9002, Rsh=7500.0, A=1.1063, dI/dV=-0.000133, expected=-0.000133, diff=-0.000000, dP/dV=-1.474259\n",
      "Iteration 6: Rs=0.8912, Rsh=7500.0, A=1.1131, dI/dV=-0.000133, expected=-0.000133, diff=-0.000000, dP/dV=-1.443412\n",
      "Iteration 7: Rs=0.8823, Rsh=7500.0, A=1.1199, dI/dV=-0.000133, expected=-0.000133, diff=-0.000000, dP/dV=-1.413244\n",
      "Iteration 8: Rs=0.8735, Rsh=7500.0, A=1.1266, dI/dV=-0.000133, expected=-0.000133, diff=-0.000000, dP/dV=-1.383735\n",
      "Iteration 9: Rs=0.8648, Rsh=7500.0, A=1.1332, dI/dV=-0.000133, expected=-0.000133, diff=-0.000000, dP/dV=-1.354856\n",
      "Iteration 10: Rs=0.8561, Rsh=7500.0, A=1.1398, dI/dV=-0.000133, expected=-0.000133, diff=-0.000000, dP/dV=-1.326603\n",
      "Iteration 11: Rs=0.8476, Rsh=7500.0, A=1.1463, dI/dV=-0.000133, expected=-0.000133, diff=-0.000000, dP/dV=-1.298952\n",
      "Iteration 12: Rs=0.8391, Rsh=7500.0, A=1.1527, dI/dV=-0.000133, expected=-0.000133, diff=-0.000000, dP/dV=-1.271884\n",
      "Iteration 13: Rs=0.8307, Rsh=7500.0, A=1.1590, dI/dV=-0.000133, expected=-0.000133, diff=-0.000000, dP/dV=-1.245383\n",
      "Iteration 14: Rs=0.8224, Rsh=7500.0, A=1.1653, dI/dV=-0.000133, expected=-0.000133, diff=-0.000000, dP/dV=-1.219431\n",
      "Iteration 15: Rs=0.8142, Rsh=7500.0, A=1.1716, dI/dV=-0.000133, expected=-0.000133, diff=-0.000000, dP/dV=-1.194014\n",
      "Iteration 16: Rs=0.8060, Rsh=7500.0, A=1.1777, dI/dV=-0.000133, expected=-0.000133, diff=-0.000000, dP/dV=-1.169116\n",
      "Iteration 17: Rs=0.7980, Rsh=7500.0, A=1.1839, dI/dV=-0.000133, expected=-0.000133, diff=-0.000000, dP/dV=-1.144723\n",
      "Iteration 18: Rs=0.7900, Rsh=7500.0, A=1.1899, dI/dV=-0.000133, expected=-0.000133, diff=-0.000000, dP/dV=-1.120821\n",
      "Iteration 19: Rs=0.7821, Rsh=7500.0, A=1.1959, dI/dV=-0.000133, expected=-0.000133, diff=-0.000000, dP/dV=-1.097396\n",
      "Iteration 20: Rs=0.7743, Rsh=7500.0, A=1.2018, dI/dV=-0.000133, expected=-0.000133, diff=-0.000000, dP/dV=-1.074435\n",
      "Iteration 21: Rs=0.7665, Rsh=7500.0, A=1.2077, dI/dV=-0.000133, expected=-0.000133, diff=-0.000000, dP/dV=-1.051926\n",
      "Iteration 22: Rs=0.7588, Rsh=7500.0, A=1.2135, dI/dV=-0.000133, expected=-0.000133, diff=-0.000000, dP/dV=-1.029856\n",
      "Iteration 23: Rs=0.7513, Rsh=7500.0, A=1.2193, dI/dV=-0.000133, expected=-0.000133, diff=-0.000000, dP/dV=-1.008214\n",
      "Iteration 24: Rs=0.7437, Rsh=7500.0, A=1.2250, dI/dV=-0.000133, expected=-0.000133, diff=-0.000000, dP/dV=-0.986989\n",
      "Iteration 25: Rs=0.7363, Rsh=7500.0, A=1.2306, dI/dV=-0.000133, expected=-0.000133, diff=-0.000000, dP/dV=-0.966170\n",
      "Iteration 26: Rs=0.7289, Rsh=7500.0, A=1.2362, dI/dV=-0.000133, expected=-0.000133, diff=-0.000000, dP/dV=-0.945746\n",
      "Iteration 27: Rs=0.7217, Rsh=7500.0, A=1.2417, dI/dV=-0.000133, expected=-0.000133, diff=-0.000000, dP/dV=-0.925708\n",
      "Iteration 28: Rs=0.7144, Rsh=7500.0, A=1.2472, dI/dV=-0.000133, expected=-0.000133, diff=-0.000000, dP/dV=-0.906044\n",
      "Iteration 29: Rs=0.7073, Rsh=7500.0, A=1.2526, dI/dV=-0.000133, expected=-0.000133, diff=-0.000000, dP/dV=-0.886747\n",
      "Iteration 30: Rs=0.7002, Rsh=7500.0, A=1.2579, dI/dV=-0.000133, expected=-0.000133, diff=-0.000000, dP/dV=-0.867806\n",
      "Iteration 31: Rs=0.6932, Rsh=7500.0, A=1.2633, dI/dV=-0.000133, expected=-0.000133, diff=-0.000000, dP/dV=-0.849213\n",
      "Iteration 32: Rs=0.6863, Rsh=7500.0, A=1.2685, dI/dV=-0.000133, expected=-0.000133, diff=-0.000000, dP/dV=-0.830959\n",
      "Iteration 33: Rs=0.6794, Rsh=7500.0, A=1.2737, dI/dV=-0.000133, expected=-0.000133, diff=-0.000000, dP/dV=-0.813036\n",
      "Iteration 34: Rs=0.6726, Rsh=7500.0, A=1.2789, dI/dV=-0.000133, expected=-0.000133, diff=-0.000000, dP/dV=-0.795436\n",
      "Iteration 35: Rs=0.6659, Rsh=7500.0, A=1.2840, dI/dV=-0.000133, expected=-0.000133, diff=-0.000000, dP/dV=-0.778151\n",
      "Iteration 36: Rs=0.6592, Rsh=7500.0, A=1.2890, dI/dV=-0.000133, expected=-0.000133, diff=-0.000000, dP/dV=-0.761174\n",
      "Iteration 37: Rs=0.6527, Rsh=7500.0, A=1.2940, dI/dV=-0.000133, expected=-0.000133, diff=-0.000000, dP/dV=-0.744497\n",
      "Iteration 38: Rs=0.6461, Rsh=7500.0, A=1.2990, dI/dV=-0.000133, expected=-0.000133, diff=-0.000000, dP/dV=-0.728113\n",
      "Iteration 39: Rs=0.6397, Rsh=7500.0, A=1.3039, dI/dV=-0.000133, expected=-0.000133, diff=-0.000000, dP/dV=-0.712016\n",
      "Iteration 40: Rs=0.6333, Rsh=7500.0, A=1.3087, dI/dV=-0.000133, expected=-0.000133, diff=-0.000000, dP/dV=-0.696198\n",
      "Iteration 41: Rs=0.6269, Rsh=7500.0, A=1.3135, dI/dV=-0.000133, expected=-0.000133, diff=-0.000000, dP/dV=-0.680653\n",
      "Iteration 42: Rs=0.6207, Rsh=7500.0, A=1.3183, dI/dV=-0.000133, expected=-0.000133, diff=-0.000000, dP/dV=-0.665376\n",
      "Iteration 43: Rs=0.6145, Rsh=7500.0, A=1.3230, dI/dV=-0.000133, expected=-0.000133, diff=-0.000000, dP/dV=-0.650359\n",
      "Iteration 44: Rs=0.6083, Rsh=7500.0, A=1.3276, dI/dV=-0.000133, expected=-0.000133, diff=-0.000000, dP/dV=-0.635598\n",
      "Iteration 45: Rs=0.6022, Rsh=7500.0, A=1.3322, dI/dV=-0.000133, expected=-0.000133, diff=-0.000000, dP/dV=-0.621085\n",
      "Iteration 46: Rs=0.5962, Rsh=7500.0, A=1.3368, dI/dV=-0.000133, expected=-0.000133, diff=-0.000000, dP/dV=-0.606817\n",
      "Iteration 47: Rs=0.5902, Rsh=7500.0, A=1.3413, dI/dV=-0.000134, expected=-0.000133, diff=-0.000000, dP/dV=-0.592787\n",
      "Iteration 48: Rs=0.5843, Rsh=7500.0, A=1.3458, dI/dV=-0.000134, expected=-0.000133, diff=-0.000000, dP/dV=-0.578990\n",
      "Iteration 49: Rs=0.5785, Rsh=7500.0, A=1.3502, dI/dV=-0.000134, expected=-0.000133, diff=-0.000000, dP/dV=-0.565421\n",
      "Extracted parameters for BP-MSX120:\n",
      "Series resistance (Rs): 0.5727 Ω\n",
      "Shunt resistance (Rsh): 7500.0 Ω\n",
      "Ideality factor (A): 1.3502\n",
      "Dark saturation current (Io): 1.86e-07 A\n",
      "Photocurrent (Iph): 3.8703 A\n",
      "Iterations required: 50\n",
      "Converged: False\n"
     ]
    }
   ],
   "source": [
    "import numpy as np\n",
    "import matplotlib.pyplot as plt\n",
    "from model.module import PVModule\n",
    "\n",
    "# Create a test module based on BP-MSX120 panel specifications\n",
    "# These values are from the BP-MSX120 datasheet\n",
    "test_module = PVModule(\n",
    "    name=\"BP-MSX120\",\n",
    "    Isc=3.87,        # Short-circuit current at STC [A]\n",
    "    Voc=42.1,        # Open-circuit voltage at STC [V]\n",
    "    Impp=3.56,       # Current at maximum power point at STC [A]\n",
    "    Vmpp=33.7,       # Voltage at maximum power point at STC [V]\n",
    "    Pmpp=120,        # Maximum power at STC [W]\n",
    "    ki=0.065,        # Temperature coefficient of short-circuit current [%/°C]\n",
    "    kv=-0.16,        # Temperature coefficient of open-circuit voltage [V/°C]\n",
    "    kp=-0.5,         # Temperature coefficient of power [%/°C]\n",
    "    ns=72            # Number of cells in series\n",
    ")\n",
    "\n"
   ]
  },
  {
   "cell_type": "markdown",
   "metadata": {},
   "source": []
  },
  {
   "cell_type": "code",
   "execution_count": null,
   "metadata": {},
   "outputs": [],
   "source": []
  }
 ],
 "metadata": {
  "kernelspec": {
   "display_name": "venv",
   "language": "python",
   "name": "python3"
  },
  "language_info": {
   "codemirror_mode": {
    "name": "ipython",
    "version": 3
   },
   "file_extension": ".py",
   "mimetype": "text/x-python",
   "name": "python",
   "nbconvert_exporter": "python",
   "pygments_lexer": "ipython3",
   "version": "3.13.2"
  }
 },
 "nbformat": 4,
 "nbformat_minor": 2
}
